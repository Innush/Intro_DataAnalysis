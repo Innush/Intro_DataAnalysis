{
  "nbformat": 4,
  "nbformat_minor": 0,
  "metadata": {
    "kernelspec": {
      "display_name": "Python 3",
      "language": "python",
      "name": "python3"
    },
    "language_info": {
      "codemirror_mode": {
        "name": "ipython",
        "version": 3
      },
      "file_extension": ".py",
      "mimetype": "text/x-python",
      "name": "python",
      "nbconvert_exporter": "python",
      "pygments_lexer": "ipython3",
      "version": "3.8.2"
    },
    "colab": {
      "name": "L1_Starter_Code.ipynb",
      "provenance": [],
      "toc_visible": true,
      "include_colab_link": true
    }
  },
  "cells": [
    {
      "cell_type": "markdown",
      "metadata": {
        "id": "view-in-github",
        "colab_type": "text"
      },
      "source": [
        "<a href=\"https://colab.research.google.com/github/Innush/Intro_DataAnalysis/blob/master/L1_Starter_Code.ipynb\" target=\"_parent\"><img src=\"https://colab.research.google.com/assets/colab-badge.svg\" alt=\"Open In Colab\"/></a>"
      ]
    },
    {
      "cell_type": "markdown",
      "metadata": {
        "id": "4CxgQXRcHuVP",
        "colab_type": "text"
      },
      "source": [
        "## Load Data from CSVs\n",
        "\n",
        "\n",
        "```\n",
        "# This is formatted as code\n",
        "```\n",
        "\n"
      ]
    },
    {
      "cell_type": "code",
      "metadata": {
        "id": "vQ9Of4nHIQ59",
        "colab_type": "code",
        "outputId": "1b3335b7-02a1-4907-823c-77cd7bc42313",
        "colab": {
          "base_uri": "https://localhost:8080/",
          "height": 170
        }
      },
      "source": [
        "!pip install unicodecsv"
      ],
      "execution_count": 0,
      "outputs": [
        {
          "output_type": "stream",
          "text": [
            "Collecting unicodecsv\n",
            "  Downloading https://files.pythonhosted.org/packages/6f/a4/691ab63b17505a26096608cc309960b5a6bdf39e4ba1a793d5f9b1a53270/unicodecsv-0.14.1.tar.gz\n",
            "Building wheels for collected packages: unicodecsv\n",
            "  Building wheel for unicodecsv (setup.py) ... \u001b[?25l\u001b[?25hdone\n",
            "  Created wheel for unicodecsv: filename=unicodecsv-0.14.1-cp36-none-any.whl size=10768 sha256=e33dc780da9cae07e9c05ee46224d931e5391efa25236df141c061019052524d\n",
            "  Stored in directory: /root/.cache/pip/wheels/a6/09/e9/e800279c98a0a8c94543f3de6c8a562f60e51363ed26e71283\n",
            "Successfully built unicodecsv\n",
            "Installing collected packages: unicodecsv\n",
            "Successfully installed unicodecsv-0.14.1\n"
          ],
          "name": "stdout"
        }
      ]
    },
    {
      "cell_type": "code",
      "metadata": {
        "id": "raksRDB6HuVR",
        "colab_type": "code",
        "colab": {}
      },
      "source": [
        "import unicodecsv\n",
        "\n",
        "## Longer version of code (replaced with shorter, equivalent version below)\n",
        "\n",
        "# enrollments = []\n",
        "# f = open('enrollments.csv', 'rb')\n",
        "# reader = unicodecsv.DictReader(f)\n",
        "# for row in reader:\n",
        "#     enrollments.append(row)\n",
        "# f.close()\n",
        "\n",
        "# with open('enrollments.csv', 'rb') as f:\n",
        "#     reader = unicodecsv.DictReader(f)\n",
        "#     enrollments = list(reader)"
      ],
      "execution_count": 0,
      "outputs": []
    },
    {
      "cell_type": "code",
      "metadata": {
        "id": "gt4_DrPyHuVX",
        "colab_type": "code",
        "colab": {
          "base_uri": "https://localhost:8080/",
          "height": 88
        },
        "outputId": "8dab3d8a-1ae1-4058-db46-a683ba966f79"
      },
      "source": [
        "#####################################\n",
        "#                 1                 #\n",
        "#####################################\n",
        "\n",
        "## Read in the data from daily_engagement.csv and project_submissions.csv \n",
        "## and store the results in the below variables.\n",
        "## Then look at the first row of each table.\n",
        "\n",
        "def read_csv(file_name):\n",
        "  with open(file_name, 'rb') as f:\n",
        "    reader = unicodecsv.DictReader(f)\n",
        "    return list(reader)\n",
        "  \n",
        "enrollments = read_csv('enrollments.csv')\n",
        "daily_engagement = read_csv('daily_engagement.csv')\n",
        "project_submissions = read_csv('project_submissions.csv')\n",
        "\n",
        "print(enrollments[0])\n",
        "print(daily_engagement[0]) \n",
        "print(project_submissions[0])"
      ],
      "execution_count": 8,
      "outputs": [
        {
          "output_type": "stream",
          "text": [
            "OrderedDict([('account_key', '448'), ('status', 'canceled'), ('join_date', '2014-11-10'), ('cancel_date', '2015-01-14'), ('days_to_cancel', '65'), ('is_udacity', 'True'), ('is_canceled', 'True')])\n",
            "OrderedDict([('acct', '0'), ('utc_date', '2015-01-09'), ('num_courses_visited', '1.0'), ('total_minutes_visited', '11.6793745'), ('lessons_completed', '0.0'), ('projects_completed', '0.0')])\n",
            "OrderedDict([('creation_date', '2015-01-14'), ('completion_date', '2015-01-16'), ('assigned_rating', 'UNGRADED'), ('account_key', '256'), ('lesson_key', '3176718735'), ('processing_state', 'EVALUATED')])\n"
          ],
          "name": "stdout"
        }
      ]
    },
    {
      "cell_type": "markdown",
      "metadata": {
        "id": "cpjQGSxDHuVb",
        "colab_type": "text"
      },
      "source": [
        "## Fixing Data Types"
      ]
    },
    {
      "cell_type": "code",
      "metadata": {
        "id": "d4qRqGmaHuVb",
        "colab_type": "code",
        "colab": {
          "base_uri": "https://localhost:8080/",
          "height": 136
        },
        "outputId": "c7420355-a083-49f2-c345-2aa25b2664bf"
      },
      "source": [
        "from datetime import datetime as dt\n",
        "\n",
        "# Takes a date as a string, and returns a Python datetime object. \n",
        "# If there is no date given, returns None\n",
        "def parse_date(date):\n",
        "    if date == '':\n",
        "        return None\n",
        "    else:\n",
        "        return dt.strptime(date, '%Y-%m-%d')\n",
        "    \n",
        "# Takes a string which is either an empty string or represents an integer,\n",
        "# and returns an int or None.\n",
        "def parse_maybe_int(i):\n",
        "    if i == '':\n",
        "        return None\n",
        "    else:\n",
        "        return int(i)\n",
        "\n",
        "# Clean up the data types in the enrollments table\n",
        "for enrollment in enrollments:\n",
        "    enrollment['cancel_date'] = parse_date(enrollment['cancel_date'])\n",
        "    enrollment['days_to_cancel'] = parse_maybe_int(enrollment['days_to_cancel'])\n",
        "    enrollment['is_canceled'] = enrollment['is_canceled'] == 'True'\n",
        "    enrollment['is_udacity'] = enrollment['is_udacity'] == 'True'\n",
        "    enrollment['join_date'] = parse_date(enrollment['join_date'])\n",
        "    \n",
        "enrollments[0]"
      ],
      "execution_count": 9,
      "outputs": [
        {
          "output_type": "execute_result",
          "data": {
            "text/plain": [
              "OrderedDict([('account_key', '448'),\n",
              "             ('status', 'canceled'),\n",
              "             ('join_date', datetime.datetime(2014, 11, 10, 0, 0)),\n",
              "             ('cancel_date', datetime.datetime(2015, 1, 14, 0, 0)),\n",
              "             ('days_to_cancel', 65),\n",
              "             ('is_udacity', True),\n",
              "             ('is_canceled', True)])"
            ]
          },
          "metadata": {
            "tags": []
          },
          "execution_count": 9
        }
      ]
    },
    {
      "cell_type": "code",
      "metadata": {
        "id": "to_xBNtwHuVf",
        "colab_type": "code",
        "colab": {
          "base_uri": "https://localhost:8080/",
          "height": 119
        },
        "outputId": "1241eec3-7e2a-4a48-d22b-02e400e2536e"
      },
      "source": [
        "# Clean up the data types in the engagement table\n",
        "for engagement_record in daily_engagement:\n",
        "    engagement_record['lessons_completed'] = int(float(engagement_record['lessons_completed']))\n",
        "    engagement_record['num_courses_visited'] = int(float(engagement_record['num_courses_visited']))\n",
        "    engagement_record['projects_completed'] = int(float(engagement_record['projects_completed']))\n",
        "    engagement_record['total_minutes_visited'] = float(engagement_record['total_minutes_visited'])\n",
        "    engagement_record['utc_date'] = parse_date(engagement_record['utc_date'])\n",
        "    \n",
        "daily_engagement[0]"
      ],
      "execution_count": 10,
      "outputs": [
        {
          "output_type": "execute_result",
          "data": {
            "text/plain": [
              "OrderedDict([('acct', '0'),\n",
              "             ('utc_date', datetime.datetime(2015, 1, 9, 0, 0)),\n",
              "             ('num_courses_visited', 1),\n",
              "             ('total_minutes_visited', 11.6793745),\n",
              "             ('lessons_completed', 0),\n",
              "             ('projects_completed', 0)])"
            ]
          },
          "metadata": {
            "tags": []
          },
          "execution_count": 10
        }
      ]
    },
    {
      "cell_type": "code",
      "metadata": {
        "id": "N4i08xPFHuVi",
        "colab_type": "code",
        "colab": {
          "base_uri": "https://localhost:8080/",
          "height": 119
        },
        "outputId": "33510686-6772-48e1-9f03-864bf177034a"
      },
      "source": [
        "# Clean up the data types in the submissions table\n",
        "for submission in project_submissions:\n",
        "    submission['completion_date'] = parse_date(submission['completion_date'])\n",
        "    submission['creation_date'] = parse_date(submission['creation_date'])\n",
        "\n",
        "project_submissions[0]"
      ],
      "execution_count": 11,
      "outputs": [
        {
          "output_type": "execute_result",
          "data": {
            "text/plain": [
              "OrderedDict([('creation_date', datetime.datetime(2015, 1, 14, 0, 0)),\n",
              "             ('completion_date', datetime.datetime(2015, 1, 16, 0, 0)),\n",
              "             ('assigned_rating', 'UNGRADED'),\n",
              "             ('account_key', '256'),\n",
              "             ('lesson_key', '3176718735'),\n",
              "             ('processing_state', 'EVALUATED')])"
            ]
          },
          "metadata": {
            "tags": []
          },
          "execution_count": 11
        }
      ]
    },
    {
      "cell_type": "markdown",
      "metadata": {
        "id": "wYnn62kYHuVm",
        "colab_type": "text"
      },
      "source": [
        "## Investigating the Data"
      ]
    },
    {
      "cell_type": "code",
      "metadata": {
        "id": "X6rQzxV5HuW-",
        "colab_type": "code",
        "colab": {}
      },
      "source": [
        "#####################################\n",
        "#                 3                 #         modify the list  ###\n",
        "#####################################  changing the name of column in 1/3 csv to the same name like the others.\n",
        "\n",
        "## Rename the \"acct\" column in the daily_engagement table to \"account_key\".\n",
        "for engagement_record in daily_engagement:\n",
        "  engagement_record['account_key'] = engagement_record['acct']\n",
        "  del engagement_record['acct']"
      ],
      "execution_count": 0,
      "outputs": []
    },
    {
      "cell_type": "code",
      "metadata": {
        "id": "NW0Mxsd4RrR2",
        "colab_type": "code",
        "colab": {}
      },
      "source": [
        "def get_unique_students(data): # doing set of unique data in column account_key\n",
        "  unique_students = set()\n",
        "  for data_point in data:\n",
        "    unique_students.add(data_point['account_key'])\n",
        "  return unique_students"
      ],
      "execution_count": 0,
      "outputs": []
    },
    {
      "cell_type": "code",
      "metadata": {
        "id": "vVNVURPeHuW6",
        "colab_type": "code",
        "colab": {
          "base_uri": "https://localhost:8080/",
          "height": 34
        },
        "outputId": "0b2933b1-ce98-46ad-a395-41f6419ab1d3"
      },
      "source": [
        "#####################################\n",
        "#                 2                 #\n",
        "#####################################\n",
        "\n",
        "## Find the total number of rows and the number of unique students (account keys)\n",
        "## in each table.\n",
        "\n",
        "enique_enrolled_students = get_unique_students(enrollments)\n",
        "len(enique_enrolled_students)  "
      ],
      "execution_count": 21,
      "outputs": [
        {
          "output_type": "execute_result",
          "data": {
            "text/plain": [
              "1302"
            ]
          },
          "metadata": {
            "tags": []
          },
          "execution_count": 21
        }
      ]
    },
    {
      "cell_type": "code",
      "metadata": {
        "id": "PDotfB2bOVtL",
        "colab_type": "code",
        "colab": {
          "base_uri": "https://localhost:8080/",
          "height": 34
        },
        "outputId": "df7c96ad-cee0-4619-feef-fa8015407c10"
      },
      "source": [
        "len(enrollments)"
      ],
      "execution_count": 13,
      "outputs": [
        {
          "output_type": "execute_result",
          "data": {
            "text/plain": [
              "1640"
            ]
          },
          "metadata": {
            "tags": []
          },
          "execution_count": 13
        }
      ]
    },
    {
      "cell_type": "code",
      "metadata": {
        "id": "1yQJp6GlOfC8",
        "colab_type": "code",
        "colab": {
          "base_uri": "https://localhost:8080/",
          "height": 34
        },
        "outputId": "42b36432-014c-46dd-b81d-b87578f5a4a2"
      },
      "source": [
        "len(daily_engagement)"
      ],
      "execution_count": 14,
      "outputs": [
        {
          "output_type": "execute_result",
          "data": {
            "text/plain": [
              "136240"
            ]
          },
          "metadata": {
            "tags": []
          },
          "execution_count": 14
        }
      ]
    },
    {
      "cell_type": "code",
      "metadata": {
        "id": "D7EXBWN3Olke",
        "colab_type": "code",
        "colab": {
          "base_uri": "https://localhost:8080/",
          "height": 34
        },
        "outputId": "67b8468b-86ab-4004-9b3b-e19043ec262d"
      },
      "source": [
        "enique_engagement_students = get_unique_students(daily_engagement)\n",
        "len(enique_engagement_students) "
      ],
      "execution_count": 22,
      "outputs": [
        {
          "output_type": "execute_result",
          "data": {
            "text/plain": [
              "1237"
            ]
          },
          "metadata": {
            "tags": []
          },
          "execution_count": 22
        }
      ]
    },
    {
      "cell_type": "code",
      "metadata": {
        "id": "GBSs7f-4PPeq",
        "colab_type": "code",
        "colab": {
          "base_uri": "https://localhost:8080/",
          "height": 34
        },
        "outputId": "961a3c82-bc9d-4025-ccac-956c661e4bf9"
      },
      "source": [
        "len(project_submissions) "
      ],
      "execution_count": 16,
      "outputs": [
        {
          "output_type": "execute_result",
          "data": {
            "text/plain": [
              "3642"
            ]
          },
          "metadata": {
            "tags": []
          },
          "execution_count": 16
        }
      ]
    },
    {
      "cell_type": "code",
      "metadata": {
        "id": "JGrEBfI1PPp8",
        "colab_type": "code",
        "colab": {
          "base_uri": "https://localhost:8080/",
          "height": 34
        },
        "outputId": "a70e08d6-9054-47c2-b2ba-b5f1fa1ff2db"
      },
      "source": [
        "enique_project_submissions = get_unique_students(project_submissions)\n",
        "len(enique_project_submissions) "
      ],
      "execution_count": 23,
      "outputs": [
        {
          "output_type": "execute_result",
          "data": {
            "text/plain": [
              "743"
            ]
          },
          "metadata": {
            "tags": []
          },
          "execution_count": 23
        }
      ]
    },
    {
      "cell_type": "markdown",
      "metadata": {
        "id": "YIbCr3RCHuW9",
        "colab_type": "text"
      },
      "source": [
        "## Problems in the Data"
      ]
    },
    {
      "cell_type": "code",
      "metadata": {
        "id": "X_00YI79TiTr",
        "colab_type": "code",
        "colab": {
          "base_uri": "https://localhost:8080/",
          "height": 34
        },
        "outputId": "ef3ab83e-aaaa-457f-a007-1bdd9a81095d"
      },
      "source": [
        "daily_engagement[0]['account_key']"
      ],
      "execution_count": 24,
      "outputs": [
        {
          "output_type": "execute_result",
          "data": {
            "text/plain": [
              "'0'"
            ]
          },
          "metadata": {
            "tags": []
          },
          "execution_count": 24
        }
      ]
    },
    {
      "cell_type": "markdown",
      "metadata": {
        "id": "mEbATLHKHuXB",
        "colab_type": "text"
      },
      "source": [
        "## Missing Engagement Records"
      ]
    },
    {
      "cell_type": "code",
      "metadata": {
        "id": "w2AC2cxBHuXB",
        "colab_type": "code",
        "colab": {}
      },
      "source": [
        "#####################################\n",
        "#                 4                 #\n",
        "#####################################\n",
        "\n",
        "## Find any one student enrollments where the student is missing from the daily engagement table.\n",
        "## Output that enrollment."
      ],
      "execution_count": 0,
      "outputs": []
    },
    {
      "cell_type": "markdown",
      "metadata": {
        "id": "sz93k2iMHuXG",
        "colab_type": "text"
      },
      "source": [
        "## Checking for More Problem Records"
      ]
    },
    {
      "cell_type": "code",
      "metadata": {
        "id": "fmy8GUP-HuXH",
        "colab_type": "code",
        "colab": {}
      },
      "source": [
        "#####################################\n",
        "#                 5                 #\n",
        "#####################################\n",
        "\n",
        "## Find the number of surprising data points (enrollments missing from\n",
        "## the engagement table) that remain, if any."
      ],
      "execution_count": 0,
      "outputs": []
    },
    {
      "cell_type": "markdown",
      "metadata": {
        "id": "WNWaAsaEHuXJ",
        "colab_type": "text"
      },
      "source": [
        "## Tracking Down the Remaining Problems"
      ]
    },
    {
      "cell_type": "code",
      "metadata": {
        "id": "LLkTJbziHuXK",
        "colab_type": "code",
        "colab": {}
      },
      "source": [
        "# Create a set of the account keys for all Udacity test accounts\n",
        "udacity_test_accounts = set()\n",
        "for enrollment in enrollments:\n",
        "    if enrollment['is_udacity']:\n",
        "        udacity_test_accounts.add(enrollment['account_key'])\n",
        "len(udacity_test_accounts)"
      ],
      "execution_count": 0,
      "outputs": []
    },
    {
      "cell_type": "code",
      "metadata": {
        "id": "ZhWiBfbKHuXM",
        "colab_type": "code",
        "colab": {}
      },
      "source": [
        "# Given some data with an account_key field, removes any records corresponding to Udacity test accounts\n",
        "def remove_udacity_accounts(data):\n",
        "    non_udacity_data = []\n",
        "    for data_point in data:\n",
        "        if data_point['account_key'] not in udacity_test_accounts:\n",
        "            non_udacity_data.append(data_point)\n",
        "    return non_udacity_data"
      ],
      "execution_count": 0,
      "outputs": []
    },
    {
      "cell_type": "code",
      "metadata": {
        "id": "OD4JKIfvHuXP",
        "colab_type": "code",
        "colab": {}
      },
      "source": [
        "# Remove Udacity test accounts from all three tables\n",
        "non_udacity_enrollments = remove_udacity_accounts(enrollments)\n",
        "non_udacity_engagement = remove_udacity_accounts(daily_engagement)\n",
        "non_udacity_submissions = remove_udacity_accounts(project_submissions)\n",
        "\n",
        "print len(non_udacity_enrollments)\n",
        "print len(non_udacity_engagement)\n",
        "print len(non_udacity_submissions)"
      ],
      "execution_count": 0,
      "outputs": []
    },
    {
      "cell_type": "markdown",
      "metadata": {
        "id": "gy8kwXdZHuXS",
        "colab_type": "text"
      },
      "source": [
        "## Refining the Question"
      ]
    },
    {
      "cell_type": "code",
      "metadata": {
        "id": "9czwqAhEHuXT",
        "colab_type": "code",
        "colab": {}
      },
      "source": [
        "#####################################\n",
        "#                 6                 #\n",
        "#####################################\n",
        "\n",
        "## Create a dictionary named paid_students containing all students who either\n",
        "## haven't canceled yet or who remained enrolled for more than 7 days. The keys\n",
        "## should be account keys, and the values should be the date the student enrolled.\n",
        "\n",
        "paid_students ="
      ],
      "execution_count": 0,
      "outputs": []
    },
    {
      "cell_type": "markdown",
      "metadata": {
        "id": "gyRB9GSiHuXV",
        "colab_type": "text"
      },
      "source": [
        "## Getting Data from First Week"
      ]
    },
    {
      "cell_type": "code",
      "metadata": {
        "id": "yOKyCg_qHuXV",
        "colab_type": "code",
        "colab": {}
      },
      "source": [
        "# Takes a student's join date and the date of a specific engagement record,\n",
        "# and returns True if that engagement record happened within one week\n",
        "# of the student joining.\n",
        "def within_one_week(join_date, engagement_date):\n",
        "    time_delta = engagement_date - join_date\n",
        "    return time_delta.days < 7"
      ],
      "execution_count": 0,
      "outputs": []
    },
    {
      "cell_type": "code",
      "metadata": {
        "id": "1W3IPTg8HuXY",
        "colab_type": "code",
        "colab": {}
      },
      "source": [
        "#####################################\n",
        "#                 7                 #\n",
        "#####################################\n",
        "\n",
        "## Create a list of rows from the engagement table including only rows where\n",
        "## the student is one of the paid students you just found, and the date is within\n",
        "## one week of the student's join date.\n",
        "\n",
        "paid_engagement_in_first_week = "
      ],
      "execution_count": 0,
      "outputs": []
    },
    {
      "cell_type": "markdown",
      "metadata": {
        "id": "i88CaWSSHuXb",
        "colab_type": "text"
      },
      "source": [
        "## Exploring Student Engagement"
      ]
    },
    {
      "cell_type": "code",
      "metadata": {
        "id": "0367cmkMHuXc",
        "colab_type": "code",
        "colab": {}
      },
      "source": [
        "from collections import defaultdict\n",
        "\n",
        "# Create a dictionary of engagement grouped by student.\n",
        "# The keys are account keys, and the values are lists of engagement records.\n",
        "engagement_by_account = defaultdict(list)\n",
        "for engagement_record in paid_engagement_in_first_week:\n",
        "    account_key = engagement_record['account_key']\n",
        "    engagement_by_account[account_key].append(engagement_record)"
      ],
      "execution_count": 0,
      "outputs": []
    },
    {
      "cell_type": "code",
      "metadata": {
        "id": "9ua9anFyHuXe",
        "colab_type": "code",
        "colab": {}
      },
      "source": [
        "# Create a dictionary with the total minutes each student spent in the classroom during the first week.\n",
        "# The keys are account keys, and the values are numbers (total minutes)\n",
        "total_minutes_by_account = {}\n",
        "for account_key, engagement_for_student in engagement_by_account.items():\n",
        "    total_minutes = 0\n",
        "    for engagement_record in engagement_for_student:\n",
        "        total_minutes += engagement_record['total_minutes_visited']\n",
        "    total_minutes_by_account[account_key] = total_minutes"
      ],
      "execution_count": 0,
      "outputs": []
    },
    {
      "cell_type": "code",
      "metadata": {
        "id": "mS9k3s45HuXg",
        "colab_type": "code",
        "colab": {}
      },
      "source": [
        "import numpy as np\n",
        "\n",
        "# Summarize the data about minutes spent in the classroom\n",
        "total_minutes = total_minutes_by_account.values()\n",
        "print 'Mean:', np.mean(total_minutes)\n",
        "print 'Standard deviation:', np.std(total_minutes)\n",
        "print 'Minimum:', np.min(total_minutes)\n",
        "print 'Maximum:', np.max(total_minutes)"
      ],
      "execution_count": 0,
      "outputs": []
    },
    {
      "cell_type": "markdown",
      "metadata": {
        "id": "-RJC41VbHuXi",
        "colab_type": "text"
      },
      "source": [
        "## Debugging Data Analysis Code"
      ]
    },
    {
      "cell_type": "code",
      "metadata": {
        "id": "mSwQkPyLHuXi",
        "colab_type": "code",
        "colab": {}
      },
      "source": [
        "#####################################\n",
        "#                 8                 #\n",
        "#####################################\n",
        "\n",
        "## Go through a similar process as before to see if there is a problem.\n",
        "## Locate at least one surprising piece of data, output it, and take a look at it."
      ],
      "execution_count": 0,
      "outputs": []
    },
    {
      "cell_type": "markdown",
      "metadata": {
        "id": "iPHdDWy-HuXk",
        "colab_type": "text"
      },
      "source": [
        "## Lessons Completed in First Week"
      ]
    },
    {
      "cell_type": "code",
      "metadata": {
        "id": "mnUmjQSHHuXl",
        "colab_type": "code",
        "colab": {}
      },
      "source": [
        "#####################################\n",
        "#                 9                 #\n",
        "#####################################\n",
        "\n",
        "## Adapt the code above to find the mean, standard deviation, minimum, and maximum for\n",
        "## the number of lessons completed by each student during the first week. Try creating\n",
        "## one or more functions to re-use the code above."
      ],
      "execution_count": 0,
      "outputs": []
    },
    {
      "cell_type": "markdown",
      "metadata": {
        "id": "OCzwwQd_HuXn",
        "colab_type": "text"
      },
      "source": [
        "## Number of Visits in First Week"
      ]
    },
    {
      "cell_type": "code",
      "metadata": {
        "id": "OMRHpo9QHuXn",
        "colab_type": "code",
        "colab": {}
      },
      "source": [
        "######################################\n",
        "#                 10                 #\n",
        "######################################\n",
        "\n",
        "## Find the mean, standard deviation, minimum, and maximum for the number of\n",
        "## days each student visits the classroom during the first week."
      ],
      "execution_count": 0,
      "outputs": []
    },
    {
      "cell_type": "markdown",
      "metadata": {
        "id": "k5HHFi3mHuXq",
        "colab_type": "text"
      },
      "source": [
        "## Splitting out Passing Students"
      ]
    },
    {
      "cell_type": "code",
      "metadata": {
        "id": "txpbrc9UHuXr",
        "colab_type": "code",
        "colab": {}
      },
      "source": [
        "######################################\n",
        "#                 11                 #\n",
        "######################################\n",
        "\n",
        "## Create two lists of engagement data for paid students in the first week.\n",
        "## The first list should contain data for students who eventually pass the\n",
        "## subway project, and the second list should contain data for students\n",
        "## who do not.\n",
        "\n",
        "subway_project_lesson_keys = ['746169184', '3176718735']\n",
        "\n",
        "passing_engagement =\n",
        "non_passing_engagement ="
      ],
      "execution_count": 0,
      "outputs": []
    },
    {
      "cell_type": "markdown",
      "metadata": {
        "id": "_SrJSxzvHuXt",
        "colab_type": "text"
      },
      "source": [
        "## Comparing the Two Student Groups"
      ]
    },
    {
      "cell_type": "code",
      "metadata": {
        "id": "jtel_4K9HuXt",
        "colab_type": "code",
        "colab": {}
      },
      "source": [
        "######################################\n",
        "#                 12                 #\n",
        "######################################\n",
        "\n",
        "## Compute some metrics you're interested in and see how they differ for\n",
        "## students who pass the subway project vs. students who don't. A good\n",
        "## starting point would be the metrics we looked at earlier (minutes spent\n",
        "## in the classroom, lessons completed, and days visited)."
      ],
      "execution_count": 0,
      "outputs": []
    },
    {
      "cell_type": "markdown",
      "metadata": {
        "id": "qkCl7SeKHuXw",
        "colab_type": "text"
      },
      "source": [
        "## Making Histograms"
      ]
    },
    {
      "cell_type": "code",
      "metadata": {
        "id": "n1WbH4nEHuXw",
        "colab_type": "code",
        "colab": {}
      },
      "source": [
        "######################################\n",
        "#                 13                 #\n",
        "######################################\n",
        "\n",
        "## Make histograms of the three metrics we looked at earlier for both\n",
        "## students who passed the subway project and students who didn't. You\n",
        "## might also want to make histograms of any other metrics you examined."
      ],
      "execution_count": 0,
      "outputs": []
    },
    {
      "cell_type": "markdown",
      "metadata": {
        "id": "ULeUDhetHuXy",
        "colab_type": "text"
      },
      "source": [
        "## Improving Plots and Sharing Findings"
      ]
    },
    {
      "cell_type": "code",
      "metadata": {
        "id": "nVBH3SguHuXy",
        "colab_type": "code",
        "colab": {}
      },
      "source": [
        "######################################\n",
        "#                 14                 #\n",
        "######################################\n",
        "\n",
        "## Make a more polished version of at least one of your visualizations\n",
        "## from earlier. Try importing the seaborn library to make the visualization\n",
        "## look better, adding axis labels and a title, and changing one or more\n",
        "## arguments to the hist() function."
      ],
      "execution_count": 0,
      "outputs": []
    }
  ]
}